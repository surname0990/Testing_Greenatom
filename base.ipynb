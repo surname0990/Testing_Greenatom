{
 "cells": [
  {
   "attachments": {},
   "cell_type": "markdown",
   "metadata": {},
   "source": [
    "#1. Какие шаги ты бы предпринил, если бы пользователь сказал, что API возвращает вму ош ибку 500?"
   ]
  },
  {
   "cell_type": "code",
   "execution_count": null,
   "metadata": {},
   "outputs": [],
   "source": [
    "# Чаще всего причиной ошибки является неверный синтаксис файла .htaccess. Я бы закомментировал \n",
    "# директиву Options,если проблема не исчезнет, то проверил бы логи. Если в логах ошибка «Allowed \n",
    "# memory size», то стоит оптимизировать работу скрипта или увеличить максимальное использование \n",
    "# памяти на процесс. Если возникает ошибка  «PHP Parse error: syntax error, unexpected», то такое \n",
    "# происходит, когда некорректно работает плагин, либо есть ошибки в коде. Ошибка может быть допущена\n",
    "# случайно, произойти при обновлении плагина или версии CMS."
   ]
  },
  {
   "attachments": {},
   "cell_type": "markdown",
   "metadata": {},
   "source": [
    "#2 Исправить ошибки:\n",
    "\n",
    "def create_handlers(callback) :\n",
    "    handlers = []\n",
    "    for step in range(5): #добавляем обработчики для каждого шага (от 0 до 4)\n",
    "        handlers.append(lambda: callback(step))\n",
    "    return handlers\n",
    "\n",
    "def execute_handlers(handlers):\n",
    "    #запускаем добавленные обработчики (шаги от 0 до 4)\n",
    "    for handler in handlers:\n",
    "        handler()"
   ]
  },
  {
   "cell_type": "code",
   "execution_count": 36,
   "metadata": {},
   "outputs": [
    {
     "name": "stdout",
     "output_type": "stream",
     "text": [
      "0\n",
      "1\n",
      "4\n",
      "9\n",
      "16\n"
     ]
    }
   ],
   "source": [
    "def create_handlers(callback) :\n",
    "    handlers = [callback]\n",
    "    for step in range(5): #добавляем обработчики для каждого шага (от 0 до 4)\n",
    "        handlers.append(step)\n",
    "    return handlers\n",
    "\n",
    "def execute_handlers(handlers):\n",
    "    #запускаем добавленные обработчики (шаги от 0 до 4)\n",
    "    for step in handlers[1:]:\n",
    "        handlers[0](step)\n",
    "\n",
    "def f(a): #для проверки функия квадрата\n",
    "    print(a*a)\n",
    "\n",
    "execute_handlers(create_handlers(f))"
   ]
  },
  {
   "attachments": {},
   "cell_type": "markdown",
   "metadata": {},
   "source": [
    "3. Сколько HTML-тегов в коде главной страницы сайта greenatom.ru ? \n",
    "Сколько из них содержит атрибуты? Напиши скрипт на Python, который выводит ответы на вопросы выше."
   ]
  },
  {
   "cell_type": "code",
   "execution_count": 35,
   "metadata": {},
   "outputs": [
    {
     "name": "stdout",
     "output_type": "stream",
     "text": [
      "html-tags: 8 , attr in tags: 1\n"
     ]
    }
   ],
   "source": [
    "import requests\n",
    "from bs4 import BeautifulSoup\n",
    "\n",
    "url = \"https://greenatom.ru/\"\n",
    "\n",
    "soup = BeautifulSoup(requests.get(url).text, \"html.parser\")\n",
    "all_ = []\n",
    "attrs = 0\n",
    "tags = 0\n",
    "\n",
    "childs = [e.name for e in soup.descendants if e.name is not None] \n",
    "for child in childs:\n",
    "    all_.append(child)\n",
    "    tags +=1\n",
    "    a = soup.find(child)\n",
    "    if a.attrs:\n",
    "        attrs +=1\n",
    "\n",
    "# print(f' Структура для проверки: \\n\\n {soup.prettify()}')\n",
    "print(f'html-tags: {tags} , attr in tags: {attrs}')"
   ]
  },
  {
   "attachments": {},
   "cell_type": "markdown",
   "metadata": {},
   "source": [
    "4. Напиши функцию на Python, которая возвращает текущий публичный IP-адрес компьютера (например, с использованием сервиса ipconfig.me)"
   ]
  },
  {
   "cell_type": "code",
   "execution_count": 157,
   "metadata": {},
   "outputs": [
    {
     "data": {
      "text/plain": [
       "93.157.234.29"
      ]
     },
     "execution_count": 157,
     "metadata": {},
     "output_type": "execute_result"
    }
   ],
   "source": [
    "def ip():\n",
    "    url = \"https://ifconfig.me/\"\n",
    "    page = requests.get(url)\n",
    "    data = BeautifulSoup(page.text)\n",
    "    return  data\n",
    "ip()"
   ]
  },
  {
   "attachments": {},
   "cell_type": "markdown",
   "metadata": {},
   "source": [
    "5. Напиши функцию на Python, выполняющую сравнение версий. Условия:\n",
    "-Return -1 if version A is older than version B.\n",
    "-Return 0 if versions A and B are equivalent.\n",
    "-Return 1 if version A is newer than version B.\n",
    "-Each subsection is supposed to be interpreted as a number, therefore 1.10 > 1.1."
   ]
  },
  {
   "cell_type": "code",
   "execution_count": 1,
   "metadata": {},
   "outputs": [],
   "source": [
    "import re\n",
    "\n",
    "def mycmp(version1, version2):\n",
    "    return cmp(normalize(version1), normalize(version2))\n",
    "\n",
    "def normalize(vers):\n",
    "    return [int(x) for x in re.sub(r'(\\.0+)*$','', vers).split(\".\")]\n",
    "\n",
    "def cmp(a, b):\n",
    "    return (a > b) - (a < b) "
   ]
  },
  {
   "cell_type": "code",
   "execution_count": 2,
   "metadata": {},
   "outputs": [
    {
     "data": {
      "text/plain": [
       "1"
      ]
     },
     "execution_count": 2,
     "metadata": {},
     "output_type": "execute_result"
    }
   ],
   "source": [
    "mycmp(\"10.4.10\", \"10.4.1\")"
   ]
  },
  {
   "cell_type": "code",
   "execution_count": 3,
   "metadata": {},
   "outputs": [],
   "source": [
    "# для проверки:\n",
    "assert mycmp(\"1\", \"1\") == 0\n",
    "assert mycmp(\"2.1\", \"2.2\") < 0\n",
    "assert mycmp(\"3.0.4.10\", \"3.0.4.2\") > 0\n",
    "assert mycmp(\"4.08\", \"4.08.01\") < 0\n",
    "assert mycmp(\"3.2.1.9.8144\", \"3.2\") > 0\n",
    "assert mycmp(\"3.2\", \"3.2.1.9.8144\") < 0\n",
    "assert mycmp(\"1.2\", \"2.1\") < 0\n",
    "assert mycmp(\"2.1\", \"1.2\") > 0\n",
    "assert mycmp(\"5.6.7\", \"5.6.7\") == 0\n",
    "assert mycmp(\"1.01.1\", \"1.1.1\") == 0\n",
    "assert mycmp(\"1.1.1\", \"1.01.1\") == 0\n",
    "assert mycmp(\"1\", \"1.0\") == 0\n",
    "assert mycmp(\"1.0\", \"1\") == 0\n",
    "assert mycmp(\"1.0\", \"1.0.1\") < 0\n",
    "assert mycmp(\"1.0.1\", \"1.0\") > 0\n",
    "assert mycmp(\"1.0.2.0\", \"1.0.2\") == 0"
   ]
  }
 ],
 "metadata": {
  "kernelspec": {
   "display_name": "Python 3",
   "language": "python",
   "name": "python3"
  },
  "language_info": {
   "codemirror_mode": {
    "name": "ipython",
    "version": 3
   },
   "file_extension": ".py",
   "mimetype": "text/x-python",
   "name": "python",
   "nbconvert_exporter": "python",
   "pygments_lexer": "ipython3",
   "version": "3.7.9"
  },
  "orig_nbformat": 4,
  "vscode": {
   "interpreter": {
    "hash": "fbf38809935e39f72161a271a1645cffc3be58087cc7fd053f4a2f19435a12d0"
   }
  }
 },
 "nbformat": 4,
 "nbformat_minor": 2
}
